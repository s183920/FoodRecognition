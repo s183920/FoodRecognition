{
  "nbformat": 4,
  "nbformat_minor": 0,
  "metadata": {
    "colab": {
      "name": "FoodRec_Validation.ipynb",
      "provenance": [],
      "collapsed_sections": [],
      "toc_visible": true
    },
    "kernelspec": {
      "name": "python3",
      "display_name": "Python 3"
    },
    "accelerator": "GPU"
  },
  "cells": [
    {
      "cell_type": "markdown",
      "metadata": {
        "id": "uoLWj-oJN8UE"
      },
      "source": [
        "# Introduction\n",
        "This notebook evaluates a Faster RCNN model trained with [this notebook](https://colab.research.google.com/drive/13KQoEpEG8vP76_OXHPJjgqI6lOxsaLxY#scrollTo=S557gOSdQgAi). The data used for this demo should therefore follow the structure described there.\n",
        "\n"
      ]
    },
    {
      "cell_type": "code",
      "metadata": {
        "colab": {
          "base_uri": "https://localhost:8080/"
        },
        "id": "3zD75hglIHYV",
        "outputId": "52e5a2e4-3f54-4d8f-c7c5-99a453aa7652"
      },
      "source": [
        "# mount drive, this should be set to the folder where the data folder is stored\n",
        "from google.colab import drive\n",
        "drive.mount('/content/drive')"
      ],
      "execution_count": null,
      "outputs": [
        {
          "output_type": "stream",
          "text": [
            "Mounted at /content/drive\n"
          ],
          "name": "stdout"
        }
      ]
    },
    {
      "cell_type": "code",
      "metadata": {
        "colab": {
          "base_uri": "https://localhost:8080/"
        },
        "id": "UK1IYmtmIRIO",
        "outputId": "f22fccb8-2153-4247-d33f-2ed10f9bdb3a"
      },
      "source": [
        "cd 'drive/My Drive/DTU/Deep learning/FoodRecognition'"
      ],
      "execution_count": null,
      "outputs": [
        {
          "output_type": "stream",
          "text": [
            "/content/drive/My Drive/DTU/Deep learning/FoodRecognition\n"
          ],
          "name": "stdout"
        }
      ]
    },
    {
      "cell_type": "markdown",
      "metadata": {
        "id": "cXnvcNUuO2aV"
      },
      "source": [
        "## Define functions to be used"
      ]
    },
    {
      "cell_type": "markdown",
      "metadata": {
        "id": "BGu-PN7SO8Ln"
      },
      "source": [
        "### Dataloader"
      ]
    },
    {
      "cell_type": "code",
      "metadata": {
        "id": "yGeclVr4K0qw"
      },
      "source": [
        "\"\"\"\n",
        "Load data into a dataset class that can be used to train our model.\n",
        "\"\"\"\n",
        "\n",
        "import torchvision.datasets as datasets\n",
        "import numpy as np\n",
        "import torch\n",
        "import torchvision.transforms as transforms\n",
        "import os\n",
        "from engine import train_one_epoch, evaluate\n",
        "import utils\n",
        "import transforms as T\n",
        "\n",
        "# dicts for converting classes to labels\n",
        "classes = ['__background__', 'boiled peas', 'boiled potatoes', 'chopped lettuce', 'fried egg',\n",
        "        'glass of milk', 'glass of water', 'meatballs', 'plain rice', 'plain spaghetti',\n",
        "        'slice of bread']\n",
        "\n",
        "cls_to_label_dict = {j:i for i,j in enumerate(classes)}\n",
        "label_to_cls_dict = {i:j for i,j in enumerate(classes)}\n",
        "\n",
        "class foodDataset(torch.utils.data.Dataset):\n",
        "    \"\"\"\n",
        "    Class to store the food data\n",
        "    \"\"\"\n",
        "    def __init__(self, data_root:str, datatype:str = \"train\", transforms = None):\n",
        "      self.data_root = data_root\n",
        "      self.transforms = transforms\n",
        "      self.splitImgPath = data_root + \"VOCdevkit/VOC2007/ImageSets/Main/\" + datatype + \".txt\"\n",
        "      with open(self.splitImgPath, \"r\") as splitIdx:\n",
        "        self.imgNames = splitIdx.readlines()\n",
        "\n",
        "      # self.dataset = datasets.VOCDetection(data_root, year='2007', image_set = datatype, transform=self.transforms)\n",
        "      self.dataset = datasets.VOCDetection(data_root, year='2007', image_set = datatype)\n",
        "\n",
        "    def __getitem__(self, idx):\n",
        "      img = self.dataset[idx][0]\n",
        "      obs = self.dataset[idx][1][\"annotation\"][\"object\"]\n",
        "      num_objs = len(obs)\n",
        "\n",
        "      image_id = torch.tensor([int(os.path.splitext(self.dataset[idx][1][\"annotation\"][\"filename\"])[0])])\n",
        "\n",
        "      boxes = []\n",
        "      labels = torch.ones((num_objs,), dtype=torch.int64)\n",
        "      for i in range(num_objs):\n",
        "        xmin = int(obs[i][\"bndbox\"][\"xmin\"])\n",
        "        xmax = int(obs[i][\"bndbox\"][\"xmax\"])\n",
        "        ymin = int(obs[i][\"bndbox\"][\"ymin\"])\n",
        "        ymax = int(obs[i][\"bndbox\"][\"ymax\"])\n",
        "        boxes.append([xmin, ymin, xmax, ymax])\n",
        "        cls = obs[i][\"name\"]\n",
        "        try:\n",
        "          labels[i] *= cls_to_label_dict[cls]\n",
        "        except KeyError:\n",
        "          raise KeyError(f\"Image {image_id} had an unavailable label: {cls} \")\n",
        "      boxes = torch.as_tensor(boxes, dtype=torch.float32)\n",
        "\n",
        "      area = (boxes[:, 3] - boxes[:, 1]) * (boxes[:, 2] - boxes[:, 0])\n",
        "\n",
        "      # suppose all instances are not crowd\n",
        "      iscrowd = torch.zeros((num_objs,), dtype=torch.int64)\n",
        "      \n",
        "      target = {}\n",
        "      target[\"boxes\"] = boxes\n",
        "      target[\"labels\"] = labels\n",
        "      target[\"area\"] = area\n",
        "      target[\"image_id\"] = image_id\n",
        "      target[\"iscrowd\"] = iscrowd\n",
        "\n",
        "      return (img, target) if self.transforms is None else self.transforms(img, target)\n",
        "\n",
        "    def __len__(self):\n",
        "      return len(self.imgNames)\n",
        "\n",
        "\n",
        "def get_transform(train):\n",
        "    transforms = []\n",
        "    # converts the image, a PIL image, into a PyTorch Tensor\n",
        "    transforms.append(T.ToTensor())\n",
        "    if train:\n",
        "        # during training, randomly flip the training images\n",
        "        # and ground-truth for data augmentation\n",
        "        transforms.append(T.RandomHorizontalFlip(0.5))\n",
        "    return T.Compose(transforms)\n",
        "    "
      ],
      "execution_count": null,
      "outputs": []
    },
    {
      "cell_type": "markdown",
      "metadata": {
        "id": "GCtKdqkPO_k3"
      },
      "source": [
        "### Test function"
      ]
    },
    {
      "cell_type": "code",
      "metadata": {
        "id": "9Jr7tLUoI9Yf"
      },
      "source": [
        "# test model\n",
        "import os\n",
        "def test_model(model_name, num_epochs, data_type):\n",
        "  filename = f\"models/{model_name}_epoch{num_epochs}.pth\"\n",
        "  assert os.path.isfile(filename), \"Model does not exist\"\n",
        "  # use our dataset and defined transformations\n",
        "  root = \"data/VOC/\"\n",
        "  # transform = get_transform(train=True) if data_type == \"train\" else get_transform(train = False)\n",
        "  dataset = foodDataset(root, data_type, transforms= get_transform(False))\n",
        "\n",
        "  data_loader = torch.utils.data.DataLoader(\n",
        "  dataset, batch_size=1, shuffle=False, num_workers=4,\n",
        "  collate_fn=utils.collate_fn)\n",
        "  \n",
        "  device = torch.device('cuda') if torch.cuda.is_available() else torch.device('cpu')\n",
        "  # model = torch.load(f\"models/opt_model/{model_name}_epoch{num_epochs}.pth\")\n",
        "  model = torch.load(filename)\n",
        "  eval = evaluate(model, data_loader, device=device)\n",
        "  \n",
        "  return eval.coco_eval[\"bbox\"].stats\n",
        "\n",
        "# test_model(\"opt_model/model\", 39, \"test\")\n",
        "\n",
        "# root = \"data/VOC/\"\n",
        "# dataset_test = foodDataset(root, \"test\", get_transform(train=False))\n",
        "# data_loader_test = torch.utils.data.DataLoader(\n",
        "#     dataset_test, batch_size=1, shuffle=False, num_workers=4,\n",
        "#     collate_fn=utils.collate_fn)\n",
        "# device = torch.device('cuda') if torch.cuda.is_available() else torch.device('cpu')\n",
        "# print(f\"Device used is: {device}\")\n",
        "# model = torch.load(\"models/opt_model/model_epoch39.pth\")\n",
        "# evaluate(model, data_loader_test, device=device)"
      ],
      "execution_count": null,
      "outputs": []
    },
    {
      "cell_type": "markdown",
      "metadata": {
        "id": "pIEgUfKCPEye"
      },
      "source": [
        "# Evaluate the models"
      ]
    },
    {
      "cell_type": "code",
      "metadata": {
        "id": "Y1Jp6dCwPFhN"
      },
      "source": [
        "import pickle\n",
        "\n",
        "epochs = 39\n",
        "eval_train = {\"epoch_\"+str(i) : test_model(\"opt_model/model\", i+1, \"train\") for i in range(epochs)}\n",
        "with open(\"evaluation/train.pickle\", \"wb\") as f:\n",
        "  pickle.dump(eval_train, f)\n",
        "\n",
        "eval_test = {\"epoch_\"+str(i) : test_model(\"opt_model/model\", i+1, \"test\") for i in range(epochs)}\n",
        "with open(\"evaluation/test.pickle\", \"wb\") as f:\n",
        "  pickle.dump(eval_test, f)\n",
        "\n",
        "eval_val = {\"epoch_\"+str(i) : test_model(\"opt_model/model\", i+1, \"val\") for i in range(epochs)}\n",
        "with open(\"evaluation/val.pickle\", \"wb\") as f:\n",
        "  pickle.dump(eval_val, f)\n",
        "\n",
        "while True: pass"
      ],
      "execution_count": null,
      "outputs": []
    },
    {
      "cell_type": "markdown",
      "metadata": {
        "id": "yZp0wICCdqwM"
      },
      "source": [
        "# Show results"
      ]
    },
    {
      "cell_type": "code",
      "metadata": {
        "id": "-K-cy_redte0"
      },
      "source": [
        "import pickle\n",
        "with open(\"evaluation/train.pkl\", \"rb\") as f:\n",
        "  eval_train = pickle.load(f)\n",
        "\n",
        "with open(\"evaluation/test.pkl\", \"rb\") as f:\n",
        "  eval_test = pickle.load(f)\n",
        "\n",
        "with open(\"evaluation/val.pkl\", \"rb\") as f:\n",
        "  eval_val = pickle.load(f)\n",
        "\n",
        "train_plot_vals = [[eval_train[\"epoch_\"+str(i)][j] for i in range(39)] for j in range(12)]\n",
        "test_plot_vals = [[eval_test[\"epoch_\"+str(i)][j] for i in range(39)] for j in range(12)]\n",
        "val_plot_vals = [[eval_val[\"epoch_\"+str(i)][j] for i in range(39)] for j in range(12)]"
      ],
      "execution_count": null,
      "outputs": []
    },
    {
      "cell_type": "code",
      "metadata": {
        "id": "D1sD12lCd89s",
        "colab": {
          "base_uri": "https://localhost:8080/",
          "height": 297
        },
        "outputId": "d936ba44-209c-46c2-9d5f-323b4bd7a555"
      },
      "source": [
        "import matplotlib.pyplot as plt\n",
        "def plot_curve(idx):\n",
        "  plt.plot(train_plot_vals[idx])\n",
        "  plt.plot(test_plot_vals[idx])\n",
        "  plt.plot(val_plot_vals[idx])\n",
        "  plt.legend([\"Train\", \"Test\", \"Validation\"])\n",
        "  plt.xlabel(\"Epoch\", fontdict={\"size\":12})\n",
        "  plt.title(\"Mean Average Precision (mAP) for the different datasets\", fontdict={\"size\":12})\n",
        "  plt.ylabel(\"mAP\", fontdict={\"size\":12})\n",
        "  \n",
        "  # plt.xticks(list(set([i for i in range(0,39, 5)])), [list(set([i+1 for i in range(0,39, 5)])))\n",
        "  # plt.xticks([i for i in range(0,39,5)])\n",
        "  plt.grid()\n",
        "\n",
        "# plt.figure(figsize=(15, 12))\n",
        "plot_curve(0)\n",
        "plt.savefig(\"validation_plot.png\")\n",
        "plt.show()\n",
        "\n",
        "# plot all metrics - behaviour of the curve seems nearly identical\n",
        "# plt.figure(figsize=(15, 12))\n",
        "# for i in range(12):\n",
        "#   plt.subplot(4, 3, i+1)\n",
        "#   plot_curve(i)\n",
        "# plt.show()"
      ],
      "execution_count": null,
      "outputs": [
        {
          "output_type": "display_data",
          "data": {
            "image/png": "[encoded data removed]",
            "text/plain": [
              "<Figure size 432x288 with 1 Axes>"
            ]
          },
          "metadata": {
            "tags": [],
            "needs_background": "light"
          }
        }
      ]
    },
    {
      "cell_type": "code",
      "metadata": {
        "colab": {
          "base_uri": "https://localhost:8080/"
        },
        "id": "DSWvWd0gv1ZN",
        "outputId": "6c2ab1e8-c9a9-4061-e1fb-e90aec47974b"
      },
      "source": [
        "print(f\"mAP values: train = \" + str(eval_train[\"epoch_38\"][0]) + \"\\t test = \" + str(eval_test[\"epoch_38\"][0]) + \"\\t val = \" + str(eval_val[\"epoch_38\"][0]))\n",
        "# eval_test[\"epoch_38\"][0]"
      ],
      "execution_count": null,
      "outputs": [
        {
          "output_type": "stream",
          "text": [
            "mAP values: train = 0.5041909866112427\t test = 0.3638583956496198\t val = 0.3542739649862209\n"
          ],
          "name": "stdout"
        }
      ]
    }
  ]
}